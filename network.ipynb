{
 "cells": [
  {
   "cell_type": "markdown",
   "id": "dd27177a",
   "metadata": {},
   "source": [
    "# Truth Social Network Structure Analysis"
   ]
  },
  {
   "cell_type": "markdown",
   "id": "efb0e9e4",
   "metadata": {},
   "source": [
    "## Imports"
   ]
  },
  {
   "cell_type": "code",
   "execution_count": 1,
   "id": "7881aef9",
   "metadata": {},
   "outputs": [],
   "source": [
    "import mysql.connector\n",
    "import pandas as pd\n",
    "import networkx as nx\n",
    "import numpy as np\n",
    "from scipy.optimize import curve_fit\n",
    "import matplotlib.pyplot as plt"
   ]
  },
  {
   "cell_type": "code",
   "execution_count": 2,
   "id": "115b8fe9",
   "metadata": {},
   "outputs": [],
   "source": [
    "import matplotlib as mpl \n",
    "\n",
    "mpl.rcParams['axes.labelsize'] = 12\n",
    "mpl.rcParams['xtick.labelsize'] = 12 \n",
    "mpl.rcParams['ytick.labelsize'] = 12  "
   ]
  },
  {
   "cell_type": "code",
   "execution_count": 3,
   "id": "e52a07b1",
   "metadata": {},
   "outputs": [],
   "source": [
    "psw = ''\n",
    "\n",
    "conn = mysql.connector.connect(\n",
    "    host = 'localhost',\n",
    "    user = 'root', \n",
    "    password = psw,\n",
    "    database = 'truth_social')\n",
    "\n",
    "cursor = conn.cursor()"
   ]
  },
  {
   "cell_type": "markdown",
   "id": "2a2485c5",
   "metadata": {},
   "source": [
    "## Get Data"
   ]
  },
  {
   "cell_type": "code",
   "execution_count": 4,
   "id": "5d9307af",
   "metadata": {},
   "outputs": [
    {
     "data": {
      "text/html": [
       "<div>\n",
       "<style scoped>\n",
       "    .dataframe tbody tr th:only-of-type {\n",
       "        vertical-align: middle;\n",
       "    }\n",
       "\n",
       "    .dataframe tbody tr th {\n",
       "        vertical-align: top;\n",
       "    }\n",
       "\n",
       "    .dataframe thead th {\n",
       "        text-align: right;\n",
       "    }\n",
       "</style>\n",
       "<table border=\"1\" class=\"dataframe\">\n",
       "  <thead>\n",
       "    <tr style=\"text-align: right;\">\n",
       "      <th></th>\n",
       "      <th>id</th>\n",
       "      <th>timestamp</th>\n",
       "      <th>time_scraped</th>\n",
       "      <th>is_retruth</th>\n",
       "      <th>is_reply</th>\n",
       "      <th>author</th>\n",
       "      <th>like_count</th>\n",
       "      <th>retruth_count</th>\n",
       "      <th>reply_count</th>\n",
       "      <th>text</th>\n",
       "      <th>url</th>\n",
       "      <th>truth_retruthed</th>\n",
       "      <th>external_id</th>\n",
       "    </tr>\n",
       "  </thead>\n",
       "  <tbody>\n",
       "    <tr>\n",
       "      <th>0</th>\n",
       "      <td>18</td>\n",
       "      <td>2022-09-11 20:24:00</td>\n",
       "      <td>2022-09-14 17:27:43</td>\n",
       "      <td>0</td>\n",
       "      <td>0</td>\n",
       "      <td>26</td>\n",
       "      <td>12300</td>\n",
       "      <td>2760</td>\n",
       "      <td>590</td>\n",
       "      <td>On this day, let’s also never forget those who...</td>\n",
       "      <td>https://truthsocial.com/@EricTrump/posts/10898...</td>\n",
       "      <td>-1</td>\n",
       "      <td>108982585515785274</td>\n",
       "    </tr>\n",
       "    <tr>\n",
       "      <th>1</th>\n",
       "      <td>21</td>\n",
       "      <td>2022-07-30 19:05:00</td>\n",
       "      <td>2022-09-14 20:54:37</td>\n",
       "      <td>0</td>\n",
       "      <td>0</td>\n",
       "      <td>26</td>\n",
       "      <td>5660</td>\n",
       "      <td>789</td>\n",
       "      <td>346</td>\n",
       "      <td>#LIVGolf is off the charts! @TrumpBedminster</td>\n",
       "      <td>https://truthsocial.com/@EricTrump/posts/10873...</td>\n",
       "      <td>-1</td>\n",
       "      <td>108738795367938727</td>\n",
       "    </tr>\n",
       "    <tr>\n",
       "      <th>2</th>\n",
       "      <td>26</td>\n",
       "      <td>2022-06-22 09:47:00</td>\n",
       "      <td>2022-09-14 22:11:40</td>\n",
       "      <td>1</td>\n",
       "      <td>0</td>\n",
       "      <td>26</td>\n",
       "      <td>0</td>\n",
       "      <td>0</td>\n",
       "      <td>0</td>\n",
       "      <td>The deal on “Gun Control” currently being stru...</td>\n",
       "      <td>https://truthsocial.com/@EricTrump/posts/10852...</td>\n",
       "      <td>2420</td>\n",
       "      <td>108527713196735892</td>\n",
       "    </tr>\n",
       "    <tr>\n",
       "      <th>3</th>\n",
       "      <td>29</td>\n",
       "      <td>2022-08-19 18:24:00</td>\n",
       "      <td>2022-09-14 22:30:01</td>\n",
       "      <td>0</td>\n",
       "      <td>0</td>\n",
       "      <td>26</td>\n",
       "      <td>15700</td>\n",
       "      <td>3320</td>\n",
       "      <td>1110</td>\n",
       "      <td>&lt;emoji: us&gt;&lt;emoji: us&gt;&lt;emoji: us&gt;</td>\n",
       "      <td>https://truthsocial.com/@EricTrump/posts/10885...</td>\n",
       "      <td>-1</td>\n",
       "      <td>108851881295512464</td>\n",
       "    </tr>\n",
       "    <tr>\n",
       "      <th>4</th>\n",
       "      <td>34</td>\n",
       "      <td>2022-05-13 13:58:00</td>\n",
       "      <td>2022-09-14 22:57:18</td>\n",
       "      <td>0</td>\n",
       "      <td>1</td>\n",
       "      <td>26</td>\n",
       "      <td>2640</td>\n",
       "      <td>401</td>\n",
       "      <td>67</td>\n",
       "      <td>See you soon!!!</td>\n",
       "      <td>https://truthsocial.com/@EricTrump/posts/10829...</td>\n",
       "      <td>-1</td>\n",
       "      <td>108295925937467612</td>\n",
       "    </tr>\n",
       "  </tbody>\n",
       "</table>\n",
       "</div>"
      ],
      "text/plain": [
       "   id           timestamp        time_scraped  is_retruth  is_reply  author  \\\n",
       "0  18 2022-09-11 20:24:00 2022-09-14 17:27:43           0         0      26   \n",
       "1  21 2022-07-30 19:05:00 2022-09-14 20:54:37           0         0      26   \n",
       "2  26 2022-06-22 09:47:00 2022-09-14 22:11:40           1         0      26   \n",
       "3  29 2022-08-19 18:24:00 2022-09-14 22:30:01           0         0      26   \n",
       "4  34 2022-05-13 13:58:00 2022-09-14 22:57:18           0         1      26   \n",
       "\n",
       "   like_count  retruth_count  reply_count  \\\n",
       "0       12300           2760          590   \n",
       "1        5660            789          346   \n",
       "2           0              0            0   \n",
       "3       15700           3320         1110   \n",
       "4        2640            401           67   \n",
       "\n",
       "                                                text  \\\n",
       "0  On this day, let’s also never forget those who...   \n",
       "1       #LIVGolf is off the charts! @TrumpBedminster   \n",
       "2  The deal on “Gun Control” currently being stru...   \n",
       "3                  <emoji: us><emoji: us><emoji: us>   \n",
       "4                                    See you soon!!!   \n",
       "\n",
       "                                                 url  truth_retruthed  \\\n",
       "0  https://truthsocial.com/@EricTrump/posts/10898...               -1   \n",
       "1  https://truthsocial.com/@EricTrump/posts/10873...               -1   \n",
       "2  https://truthsocial.com/@EricTrump/posts/10852...             2420   \n",
       "3  https://truthsocial.com/@EricTrump/posts/10885...               -1   \n",
       "4  https://truthsocial.com/@EricTrump/posts/10829...               -1   \n",
       "\n",
       "          external_id  \n",
       "0  108982585515785274  \n",
       "1  108738795367938727  \n",
       "2  108527713196735892  \n",
       "3  108851881295512464  \n",
       "4  108295925937467612  "
      ]
     },
     "execution_count": 4,
     "metadata": {},
     "output_type": "execute_result"
    }
   ],
   "source": [
    "cursor.execute(\"SELECT * FROM truths\")\n",
    "headers = [column[0] for column in cursor.description]\n",
    "truths = pd.DataFrame(cursor.fetchall(), columns=headers)\n",
    "truths.head()"
   ]
  },
  {
   "cell_type": "code",
   "execution_count": 5,
   "id": "dcf0bc1b",
   "metadata": {},
   "outputs": [
    {
     "data": {
      "text/html": [
       "<div>\n",
       "<style scoped>\n",
       "    .dataframe tbody tr th:only-of-type {\n",
       "        vertical-align: middle;\n",
       "    }\n",
       "\n",
       "    .dataframe tbody tr th {\n",
       "        vertical-align: top;\n",
       "    }\n",
       "\n",
       "    .dataframe thead th {\n",
       "        text-align: right;\n",
       "    }\n",
       "</style>\n",
       "<table border=\"1\" class=\"dataframe\">\n",
       "  <thead>\n",
       "    <tr style=\"text-align: right;\">\n",
       "      <th></th>\n",
       "      <th>id</th>\n",
       "      <th>timestamp</th>\n",
       "      <th>time_scraped</th>\n",
       "      <th>username</th>\n",
       "      <th>follower_count</th>\n",
       "      <th>following_count</th>\n",
       "      <th>profile_url</th>\n",
       "      <th>finished_follower_scrape</th>\n",
       "      <th>finished_following_scrape</th>\n",
       "      <th>finished_truth_scrape</th>\n",
       "    </tr>\n",
       "  </thead>\n",
       "  <tbody>\n",
       "    <tr>\n",
       "      <th>0</th>\n",
       "      <td>22</td>\n",
       "      <td>2022-05-01</td>\n",
       "      <td>2022-09-04 23:14:03</td>\n",
       "      <td>ProjectVeritasAction</td>\n",
       "      <td>455386.0</td>\n",
       "      <td>2.0</td>\n",
       "      <td>https://truthsocial.com/@ProjectVeritasAction</td>\n",
       "      <td>1.0</td>\n",
       "      <td>1.0</td>\n",
       "      <td>1.0</td>\n",
       "    </tr>\n",
       "    <tr>\n",
       "      <th>1</th>\n",
       "      <td>23</td>\n",
       "      <td>2022-05-01</td>\n",
       "      <td>2022-09-04 23:32:45</td>\n",
       "      <td>ProjectVeritas</td>\n",
       "      <td>617923.0</td>\n",
       "      <td>15.0</td>\n",
       "      <td>https://truthsocial.com/@ProjectVeritas</td>\n",
       "      <td>1.0</td>\n",
       "      <td>1.0</td>\n",
       "      <td>1.0</td>\n",
       "    </tr>\n",
       "    <tr>\n",
       "      <th>2</th>\n",
       "      <td>24</td>\n",
       "      <td>2022-05-01</td>\n",
       "      <td>2022-09-04 23:32:57</td>\n",
       "      <td>JamesOKeefeIII</td>\n",
       "      <td>395827.0</td>\n",
       "      <td>5.0</td>\n",
       "      <td>https://truthsocial.com/@JamesOKeefeIII</td>\n",
       "      <td>1.0</td>\n",
       "      <td>1.0</td>\n",
       "      <td>1.0</td>\n",
       "    </tr>\n",
       "    <tr>\n",
       "      <th>3</th>\n",
       "      <td>25</td>\n",
       "      <td>2022-02-01</td>\n",
       "      <td>2022-09-04 23:34:48</td>\n",
       "      <td>JCSullivan</td>\n",
       "      <td>6942.0</td>\n",
       "      <td>221.0</td>\n",
       "      <td>https://truthsocial.com/@JCSullivan</td>\n",
       "      <td>0.0</td>\n",
       "      <td>0.0</td>\n",
       "      <td>0.0</td>\n",
       "    </tr>\n",
       "    <tr>\n",
       "      <th>4</th>\n",
       "      <td>26</td>\n",
       "      <td>2022-02-01</td>\n",
       "      <td>2022-09-04 23:48:56</td>\n",
       "      <td>EricTrump</td>\n",
       "      <td>1727967.0</td>\n",
       "      <td>178.0</td>\n",
       "      <td>https://truthsocial.com/@EricTrump</td>\n",
       "      <td>1.0</td>\n",
       "      <td>1.0</td>\n",
       "      <td>0.0</td>\n",
       "    </tr>\n",
       "  </tbody>\n",
       "</table>\n",
       "</div>"
      ],
      "text/plain": [
       "   id  timestamp        time_scraped              username  follower_count  \\\n",
       "0  22 2022-05-01 2022-09-04 23:14:03  ProjectVeritasAction        455386.0   \n",
       "1  23 2022-05-01 2022-09-04 23:32:45        ProjectVeritas        617923.0   \n",
       "2  24 2022-05-01 2022-09-04 23:32:57        JamesOKeefeIII        395827.0   \n",
       "3  25 2022-02-01 2022-09-04 23:34:48            JCSullivan          6942.0   \n",
       "4  26 2022-02-01 2022-09-04 23:48:56             EricTrump       1727967.0   \n",
       "\n",
       "   following_count                                    profile_url  \\\n",
       "0              2.0  https://truthsocial.com/@ProjectVeritasAction   \n",
       "1             15.0        https://truthsocial.com/@ProjectVeritas   \n",
       "2              5.0        https://truthsocial.com/@JamesOKeefeIII   \n",
       "3            221.0            https://truthsocial.com/@JCSullivan   \n",
       "4            178.0             https://truthsocial.com/@EricTrump   \n",
       "\n",
       "   finished_follower_scrape  finished_following_scrape  finished_truth_scrape  \n",
       "0                       1.0                        1.0                    1.0  \n",
       "1                       1.0                        1.0                    1.0  \n",
       "2                       1.0                        1.0                    1.0  \n",
       "3                       0.0                        0.0                    0.0  \n",
       "4                       1.0                        1.0                    0.0  "
      ]
     },
     "execution_count": 5,
     "metadata": {},
     "output_type": "execute_result"
    }
   ],
   "source": [
    "cursor.execute(\"SELECT * FROM users\")\n",
    "headers = [column[0] for column in cursor.description]\n",
    "users = pd.DataFrame(cursor.fetchall(), columns=headers)\n",
    "users.head()"
   ]
  },
  {
   "cell_type": "code",
   "execution_count": 6,
   "id": "9fbcf29d",
   "metadata": {},
   "outputs": [],
   "source": [
    "users['username'].fillna(\"NaN\", inplace=True)"
   ]
  },
  {
   "cell_type": "markdown",
   "id": "41dea4a8",
   "metadata": {},
   "source": [
    "## Network Graph"
   ]
  },
  {
   "cell_type": "code",
   "execution_count": 7,
   "id": "9bac95e6",
   "metadata": {},
   "outputs": [],
   "source": [
    "G = nx.DiGraph()\n",
    "\n",
    "# Adding nodes (users).\n",
    "for _, user in users.iterrows():\n",
    "    G.add_node(user['id'], nickname=user['username'])"
   ]
  },
  {
   "cell_type": "code",
   "execution_count": 8,
   "id": "ce7776b7",
   "metadata": {},
   "outputs": [],
   "source": [
    "# Adding edges\n",
    "retruths = truths[truths['is_retruth'] == 1]\n",
    "for _, truth in retruths.iterrows():\n",
    "    original_post_id = truth['truth_retruthed']\n",
    "    res = truths.loc[truths['id'] == original_post_id, 'author']\n",
    "    # If Truth retruthed is on dataset\n",
    "    if not res.empty:\n",
    "        original_author_id = res.item()\n",
    "        # Add directed edge from repost author to original author\n",
    "        G.add_edge(truth['author'], original_author_id)"
   ]
  },
  {
   "cell_type": "code",
   "execution_count": 9,
   "id": "c0878249",
   "metadata": {},
   "outputs": [
    {
     "name": "stdout",
     "output_type": "stream",
     "text": [
      "Number of nodes: 454458\n",
      "Number of edges: 105601\n"
     ]
    }
   ],
   "source": [
    "print(\"Number of nodes:\", G.number_of_nodes())\n",
    "print(\"Number of edges:\", G.number_of_edges())"
   ]
  },
  {
   "cell_type": "code",
   "execution_count": 10,
   "id": "07619344",
   "metadata": {},
   "outputs": [
    {
     "name": "stdout",
     "output_type": "stream",
     "text": [
      "O vértice com o maior in_degree é: 27\n",
      "Número real de arestas que entram: 1446\n",
      "Nickname do vértice com o maior in_degree: realDonaldTrump\n"
     ]
    }
   ],
   "source": [
    "# In degree\n",
    "in_degrees = dict(G.in_degree())\n",
    "max_in_degree_node = max(in_degrees, key=in_degrees.get)\n",
    "max_in_degree_count = in_degrees[max_in_degree_node]\n",
    "\n",
    "# Agora você pode acessar o vértice com o maior in_degree e o número real de arestas que entram.\n",
    "print(f\"O vértice com o maior in_degree é: {max_in_degree_node}\")\n",
    "print(f\"Número real de arestas que entram: {max_in_degree_count}\")\n",
    "\n",
    "# Se desejar, você pode obter informações adicionais sobre o vértice, como o nickname.\n",
    "print(f\"Nickname do vértice com o maior in_degree: {G.nodes[max_in_degree_node]['nickname']}\")"
   ]
  },
  {
   "cell_type": "code",
   "execution_count": 11,
   "id": "b30fef14",
   "metadata": {},
   "outputs": [
    {
     "name": "stdout",
     "output_type": "stream",
     "text": [
      "O vértice com o maior out_degree é: 12524\n",
      "Número real de arestas que saem: 914\n",
      "Nickname do vértice com o maior out_degree: NavyCMC\n"
     ]
    }
   ],
   "source": [
    "out_degrees = dict(G.out_degree())\n",
    "max_out_degree_node = max(out_degrees, key=out_degrees.get)\n",
    "max_out_degree_count = out_degrees[max_out_degree_node]\n",
    "\n",
    "# Agora você pode acessar o vértice com o maior in_degree e o número real de arestas que entram.\n",
    "print(f\"O vértice com o maior out_degree é: {max_out_degree_node}\")\n",
    "print(f\"Número real de arestas que saem: {max_out_degree_count}\")\n",
    "\n",
    "# Se desejar, você pode obter informações adicionais sobre o vértice, como o nickname.\n",
    "print(f\"Nickname do vértice com o maior out_degree: {G.nodes[max_out_degree_node]['nickname']}\")"
   ]
  },
  {
   "cell_type": "code",
   "execution_count": 12,
   "id": "92ca80ed",
   "metadata": {},
   "outputs": [
    {
     "name": "stdout",
     "output_type": "stream",
     "text": [
      "Author with most in degree centrality: 27\n",
      "In degree Centrality: 0.0031818191820128195\n",
      "Username: realDonaldTrump\n"
     ]
    }
   ],
   "source": [
    "# In degree centrality\n",
    "in_degree_centrality = nx.in_degree_centrality(G)\n",
    "max_in_degree_node = max(in_degree_centrality, key=in_degree_centrality.get)\n",
    "\n",
    "print(f\"Author with most in degree centrality: {max_in_degree_node}\")\n",
    "print(f\"In degree Centrality: {in_degree_centrality[max_in_degree_node]}\")\n",
    "print(f\"Username: {G.nodes[max_in_degree_node]['nickname']}\")"
   ]
  },
  {
   "cell_type": "markdown",
   "id": "9ac33005",
   "metadata": {},
   "source": [
    "### Saving Graph"
   ]
  },
  {
   "cell_type": "code",
   "execution_count": 13,
   "id": "c7e9bb13",
   "metadata": {},
   "outputs": [],
   "source": [
    "nx.write_graphml(G, \"grafo_gephi.graphml\")"
   ]
  },
  {
   "cell_type": "markdown",
   "id": "cae096aa",
   "metadata": {},
   "source": [
    "### Degree Distribution"
   ]
  },
  {
   "cell_type": "code",
   "execution_count": 196,
   "id": "226bba5e",
   "metadata": {},
   "outputs": [],
   "source": [
    "in_degrees = list(dict(G.in_degree()).values())\n",
    "out_degrees = list(dict(G.out_degree()).values())\n",
    "total_nodes = len(G)"
   ]
  },
  {
   "cell_type": "code",
   "execution_count": 16,
   "id": "40eab891",
   "metadata": {},
   "outputs": [
    {
     "data": {
      "image/png": "[encoded data removed]",
      "text/plain": [
       "<Figure size 864x432 with 2 Axes>"
      ]
     },
     "metadata": {
      "needs_background": "light"
     },
     "output_type": "display_data"
    }
   ],
   "source": [
    "# In degree and out degree histograms\n",
    "in_degree_hist = np.bincount(in_degrees)\n",
    "out_degree_hist = np.bincount(out_degrees)\n",
    "\n",
    "# Cumulative probabilities \n",
    "in_degree_cdf = np.cumsum(in_degree_hist) / np.sum(in_degree_hist)\n",
    "out_degree_cdf = np.cumsum(out_degree_hist) / np.sum(out_degree_hist)\n",
    "\n",
    "# Cumulative distribution for in degree\n",
    "plt.figure(figsize=(12, 6))\n",
    "plt.subplot(121)\n",
    "plt.scatter(range(len(in_degree_cdf)), in_degree_cdf, marker='o', alpha=0.7)\n",
    "plt.xscale('log')\n",
    "plt.yscale('log')\n",
    "plt.title(\"Distribuição de In-Degree (log-log)\")\n",
    "plt.xlabel(\"In-Degree (log scale)\")\n",
    "plt.ylabel(\"Probabilidade Acumulada (log scale)\")\n",
    "\n",
    "# Cumulative distribution for out degree\n",
    "plt.subplot(122)\n",
    "plt.scatter(range(len(out_degree_cdf)), out_degree_cdf, marker='o', alpha=0.7)\n",
    "plt.xscale('log')\n",
    "plt.yscale('log')\n",
    "plt.title(\"Distribuição de Out-Degree (log-log)\")\n",
    "plt.xlabel(\"Out-Degree (log scale)\")\n",
    "plt.ylabel(\"Probabilidade Acumulada (log scale)\")\n",
    "\n",
    "plt.tight_layout()\n",
    "plt.show()"
   ]
  },
  {
   "cell_type": "code",
   "execution_count": 331,
   "id": "eb0e4e64",
   "metadata": {},
   "outputs": [],
   "source": [
    "def power_law(x, a, b):\n",
    "    return a * x**b"
   ]
  },
  {
   "cell_type": "code",
   "execution_count": 332,
   "id": "f5924e28",
   "metadata": {},
   "outputs": [],
   "source": [
    "# In degree and out degree histograms\n",
    "in_degree_hist, in_degree_bins = np.histogram(in_degrees, bins=10000, density=True)\n",
    "out_degree_hist, out_degree_bins = np.histogram(out_degrees, bins=10000, density=True)\n",
    "\n",
    "# Mean points of each bin\n",
    "in_degree_bins_mid = 0.5 * (in_degree_bins[:-1] + in_degree_bins[1:])\n",
    "out_degree_bins_mid = 0.5 * (out_degree_bins[:-1] + out_degree_bins[1:])\n",
    "\n",
    "# Fitting power law\n",
    "X = in_degree_bins_mid[1:]\n",
    "Y = in_degree_hist[1:]\n",
    "params, cov = curve_fit(power_law, X, Y)\n",
    "a, b = params"
   ]
  },
  {
   "cell_type": "code",
   "execution_count": 338,
   "id": "2f9d44c2",
   "metadata": {},
   "outputs": [],
   "source": [
    "X_in_plot = np.linspace(1, 300, 100)\n",
    "Y_in_plot = power_law(X_in_plot, 0.07, -1.6)"
   ]
  },
  {
   "cell_type": "code",
   "execution_count": 339,
   "id": "9c232f9a",
   "metadata": {},
   "outputs": [],
   "source": [
    "X_out_plot = np.linspace(1, 300, 100)\n",
    "Y_out_plot = power_law(X_out_plot, 0.007, -0.9)"
   ]
  },
  {
   "cell_type": "code",
   "execution_count": 340,
   "id": "8c59c3d8",
   "metadata": {},
   "outputs": [
    {
     "data": {
      "image/png": "[encoded data removed]",
      "text/plain": [
       "<Figure size 648x288 with 2 Axes>"
      ]
     },
     "metadata": {
      "needs_background": "light"
     },
     "output_type": "display_data"
    }
   ],
   "source": [
    "# Scatter plot of in degree distribution\n",
    "fig, ax = plt.subplots(1, 2, figsize=(9,4), sharey=True)\n",
    "ax[0].scatter(in_degree_bins_mid[1:], in_degree_hist[1:], marker='o', alpha=0.7)\n",
    "ax[0].plot(X_in_plot, Y_in_plot, c='r', alpha=0.8, linewidth=2)\n",
    "ax[0].annotate(f'a = 0.07\\nb = -1.6', xy=(0.6, 0.7), xycoords='axes fraction', fontsize=12)\n",
    "ax[0].set_xscale('log')\n",
    "ax[0].set_yscale('log')\n",
    "ax[0].set_xlabel(\"In-Degree (log scale)\")\n",
    "ax[0].set_ylabel(\"Densidade\")\n",
    "\n",
    "# Scatter plot of out degree distribution\n",
    "ax[1].scatter(out_degree_bins_mid[1:], out_degree_hist[1:], marker='o', alpha=0.7)\n",
    "ax[1].plot(X_out_plot, Y_out_plot, c='r', alpha=0.8, linewidth=2)\n",
    "ax[1].annotate(f'a = 0.007\\nb = -0.9', xy=(0.6, 0.7), xycoords='axes fraction', fontsize=12)\n",
    "ax[1].set_xscale('log')\n",
    "ax[1].set_yscale('log')\n",
    "ax[1].set_xlabel(\"Out-Degree (log scale)\")\n",
    "#plt.ylabel(\"Densidade (log scale)\")\n",
    "\n",
    "plt.tight_layout()\n",
    "plt.show()"
   ]
  },
  {
   "cell_type": "markdown",
   "id": "bbbc4b67",
   "metadata": {},
   "source": [
    "### Strongly Connected Components"
   ]
  },
  {
   "cell_type": "code",
   "execution_count": 16,
   "id": "d1ba6fb7",
   "metadata": {},
   "outputs": [
    {
     "name": "stdout",
     "output_type": "stream",
     "text": [
      "Number of Strongly Connected Components: 454095\n"
     ]
    }
   ],
   "source": [
    "strongly_connected_components = list(nx.strongly_connected_components(G))\n",
    "num_strongly_connected_components = len(strongly_connected_components)\n",
    "\n",
    "print(f\"Number of Strongly Connected Components: {num_strongly_connected_components}\")"
   ]
  },
  {
   "cell_type": "code",
   "execution_count": 17,
   "id": "2d659ed9",
   "metadata": {},
   "outputs": [
    {
     "name": "stdout",
     "output_type": "stream",
     "text": [
      "Largest SCC size: 361\n"
     ]
    }
   ],
   "source": [
    "largest_strongly_connected_component = max(strongly_connected_components, key=len)\n",
    "num_nodes_largest_component = len(largest_strongly_connected_component)\n",
    "\n",
    "print(f\"Largest SCC size: {num_nodes_largest_component}\")"
   ]
  },
  {
   "cell_type": "code",
   "execution_count": 18,
   "id": "c05e439b",
   "metadata": {},
   "outputs": [
    {
     "data": {
      "image/png": "[encoded data removed]",
      "text/plain": [
       "<Figure size 432x288 with 1 Axes>"
      ]
     },
     "metadata": {
      "needs_background": "light"
     },
     "output_type": "display_data"
    }
   ],
   "source": [
    "SCC_sizes = [len(SCC) for SCC in strongly_connected_components]\n",
    "\n",
    "plt.figure(figsize=(6, 4))\n",
    "plt.hist(SCC_sizes, bins=50, alpha=0.7, edgecolor='k')\n",
    "#plt.title(\"Distribuição dos Coeficientes de Clusterização\")\n",
    "plt.xlabel(\"Tamanho do componente\")\n",
    "plt.ylabel(\"Frequência\")\n",
    "plt.yscale('log')\n",
    "plt.show()"
   ]
  },
  {
   "cell_type": "code",
   "execution_count": 19,
   "id": "6b37420c",
   "metadata": {},
   "outputs": [
    {
     "data": {
      "text/plain": [
       "[2, 2, 361, 2]"
      ]
     },
     "execution_count": 19,
     "metadata": {},
     "output_type": "execute_result"
    }
   ],
   "source": [
    "# SCC with size > 1\n",
    "list(filter(lambda x: x > 1, SCC_sizes))"
   ]
  },
  {
   "cell_type": "code",
   "execution_count": 23,
   "id": "6b5ef089",
   "metadata": {
    "scrolled": true
   },
   "outputs": [
    {
     "name": "stdout",
     "output_type": "stream",
     "text": [
      "Top 15 users with higher centrality on the largest SCC\n",
      "realDonaldTrump (0.344)\n",
      "seanmdav (0.213)\n",
      "J (0.155)\n",
      "juanitab (0.134)\n",
      "butler (0.133)\n",
      "Sunnyc45 (0.133)\n",
      "hager (0.129)\n",
      "TravisTritt (0.120)\n",
      "TrumpJew2 (0.114)\n",
      "scottyfilms (0.103)\n",
      "Starduster (0.101)\n",
      "josh (0.100)\n",
      "CarpeDonktum (0.090)\n",
      "1967 (0.090)\n",
      "captaindeplorable45 (0.083)\n"
     ]
    }
   ],
   "source": [
    "# Visualizing the users on the largest SCC\n",
    "largest_SCC = G.subgraph(largest_strongly_connected_component)\n",
    "scc_centrality = nx.betweenness_centrality(largest_SCC)\n",
    "sorted_centrality = sorted(scc_centrality, key=scc_centrality.get, reverse=True)\n",
    "\n",
    "print(\"Top 15 users with higher centrality on the largest SCC\")\n",
    "for node in sorted_centrality[:15]:\n",
    "    print(f\"{largest_SCC.nodes[node]['nickname']} ({scc_centrality[node]:.3f})\")"
   ]
  },
  {
   "cell_type": "code",
   "execution_count": 24,
   "id": "fa0c17de",
   "metadata": {},
   "outputs": [],
   "source": [
    "subgraph = G.subgraph(largest_strongly_connected_component)\n",
    "\n",
    "pagerank = nx.pagerank(subgraph)\n",
    "betweenness = nx.betweenness_centrality(subgraph)\n",
    "in_degrees = dict(subgraph.in_degree())"
   ]
  },
  {
   "cell_type": "code",
   "execution_count": 25,
   "id": "f556ed07",
   "metadata": {},
   "outputs": [],
   "source": [
    "nodes_rank = [pagerank[node] for node in subgraph.nodes()]\n",
    "nodes_betweenss = [betweenness[node] for node in subgraph.nodes()]\n",
    "nodes_in_degree = [in_degrees[node] for node in subgraph.nodes()]"
   ]
  },
  {
   "cell_type": "code",
   "execution_count": 26,
   "id": "55ed6c8d",
   "metadata": {},
   "outputs": [],
   "source": [
    "largest_scc_sizes = []\n",
    "largest_scc_sizes2 = []\n",
    "\n",
    "subgraph_copy = nx.DiGraph(subgraph)\n",
    "sorted_nodes_by_betweenness = sorted(subgraph_copy.nodes(), key=lambda node: betweenness[node], reverse=True)\n",
    "\n",
    "for node in sorted_nodes_by_betweenness:\n",
    "    largest_scc_sizes.append(len(max(nx.strongly_connected_components(subgraph_copy), key=len)))\n",
    "    subgraph_copy.remove_node(node)\n",
    "    \n",
    "subgraph_copy = nx.DiGraph(subgraph)\n",
    "for node in sorted(sorted_nodes_by_betweenness):\n",
    "    largest_scc_sizes2.append(len(max(nx.strongly_connected_components(subgraph_copy), key=len)))\n",
    "    subgraph_copy.remove_node(node)"
   ]
  },
  {
   "cell_type": "code",
   "execution_count": 27,
   "id": "2fa508f2",
   "metadata": {
    "scrolled": false
   },
   "outputs": [
    {
     "data": {
      "image/png": "[encoded data removed]",
      "text/plain": [
       "<Figure size 648x288 with 2 Axes>"
      ]
     },
     "metadata": {
      "needs_background": "light"
     },
     "output_type": "display_data"
    }
   ],
   "source": [
    "plt.figure(figsize=(9, 4))\n",
    "\n",
    "# Plot 1: Scatter plot do rank versus betweenness centrality.\n",
    "plt.subplot(1, 2, 1)\n",
    "plt.scatter(nodes_in_degree, nodes_betweenss, s=10, alpha=0.7)\n",
    "plt.scatter(max(nodes_in_degree), max(nodes_betweenss), s=13, alpha=0.7, color='r')\n",
    "plt.xlabel('In-degree')\n",
    "plt.ylabel(\"Betweenness\")\n",
    "plt.xscale('log')\n",
    "plt.yscale('log')\n",
    "\n",
    "\n",
    "#Plot 2: Graph resilience\n",
    "plt.subplot(1, 2, 2)\n",
    "removed_nodes = np.arange(len(subgraph))\n",
    "\n",
    "plt.plot(removed_nodes, largest_scc_sizes, alpha=0.7, label='Remoção pelo mais importante')\n",
    "plt.plot(removed_nodes, largest_scc_sizes2, alpha=0.7, label='Remoção pelo menos importante')\n",
    "\n",
    "plt.xlabel(\"Número de Nós Removidos\")\n",
    "plt.ylabel(\"Tamanho do Maior SCC\")\n",
    "plt.legend()\n",
    "\n",
    "plt.tight_layout()\n",
    "plt.show()\n"
   ]
  },
  {
   "cell_type": "markdown",
   "id": "2943ed81",
   "metadata": {},
   "source": [
    "### Clustering Coefficients"
   ]
  },
  {
   "cell_type": "code",
   "execution_count": 136,
   "id": "bfe5a40b",
   "metadata": {},
   "outputs": [],
   "source": [
    "# Dict where keys are nodes and values are clustering coefficients\n",
    "cluster_coefficients = nx.clustering(G)"
   ]
  },
  {
   "cell_type": "code",
   "execution_count": 137,
   "id": "f0ab2162",
   "metadata": {},
   "outputs": [
    {
     "data": {
      "image/png": "[encoded data removed]",
      "text/plain": [
       "<Figure size 432x288 with 1 Axes>"
      ]
     },
     "metadata": {
      "needs_background": "light"
     },
     "output_type": "display_data"
    }
   ],
   "source": [
    "coefficients = list(cluster_coefficients.values())\n",
    "\n",
    "# Histogram.\n",
    "plt.figure(figsize=(6, 4))\n",
    "plt.hist(coefficients, bins=25, alpha=0.7, edgecolor='k')\n",
    "#plt.title(\"Distribuição dos Coeficientes de Clusterização\")\n",
    "plt.xlabel(\"Coeficiente de Clusterização\")\n",
    "plt.ylabel(\"Frequência\")\n",
    "plt.yscale('log')\n",
    "plt.show()"
   ]
  },
  {
   "cell_type": "code",
   "execution_count": 138,
   "id": "7db81120",
   "metadata": {},
   "outputs": [
    {
     "name": "stdout",
     "output_type": "stream",
     "text": [
      "Average Clustering Coefficient: 0.0005117825383236345\n"
     ]
    }
   ],
   "source": [
    "print(f\"Average Clustering Coefficient: {nx.average_clustering(G)}\")"
   ]
  },
  {
   "cell_type": "markdown",
   "id": "d66ddee2",
   "metadata": {},
   "source": [
    "### Distances"
   ]
  },
  {
   "cell_type": "code",
   "execution_count": 139,
   "id": "9b5f363f",
   "metadata": {},
   "outputs": [],
   "source": [
    "all_pairs_distances = dict(nx.all_pairs_shortest_path_length(G))"
   ]
  },
  {
   "cell_type": "code",
   "execution_count": 140,
   "id": "9e2bca73",
   "metadata": {},
   "outputs": [],
   "source": [
    "# Flatten distance matrix into list\n",
    "all_distances = [dist for distances in all_pairs_distances.values() for dist in distances.values()]"
   ]
  },
  {
   "cell_type": "code",
   "execution_count": 141,
   "id": "cc16a0f1",
   "metadata": {},
   "outputs": [
    {
     "data": {
      "image/png": "[encoded data removed]",
      "text/plain": [
       "<Figure size 432x288 with 1 Axes>"
      ]
     },
     "metadata": {
      "needs_background": "light"
     },
     "output_type": "display_data"
    }
   ],
   "source": [
    "# Plot histogram.\n",
    "plt.hist(all_distances, density=True, bins=18, alpha=0.7, edgecolor='k')\n",
    "#plt.title(\"Distribuição das Distâncias de Todos os Nós\")\n",
    "plt.xlabel(\"Tamanho\")\n",
    "plt.ylabel(\"Densidade\")\n",
    "plt.show()"
   ]
  },
  {
   "cell_type": "code",
   "execution_count": 142,
   "id": "5e207309",
   "metadata": {},
   "outputs": [
    {
     "name": "stdout",
     "output_type": "stream",
     "text": [
      "Average distance: 6.662200674690858\n"
     ]
    }
   ],
   "source": [
    "print(f\"Average distance: {sum(all_distances) / len(all_distances)}\")"
   ]
  },
  {
   "cell_type": "markdown",
   "id": "dfc5d18b",
   "metadata": {},
   "source": [
    "### PageRank"
   ]
  },
  {
   "cell_type": "code",
   "execution_count": 102,
   "id": "76c02213",
   "metadata": {},
   "outputs": [],
   "source": [
    "pagerank = nx.pagerank(G)"
   ]
  },
  {
   "cell_type": "code",
   "execution_count": 104,
   "id": "c386e78f",
   "metadata": {},
   "outputs": [],
   "source": [
    "sorted_nodes = sorted(pagerank.items(), key=lambda x: x[1], reverse=True)"
   ]
  },
  {
   "cell_type": "code",
   "execution_count": 107,
   "id": "8d053db5",
   "metadata": {},
   "outputs": [
    {
     "name": "stdout",
     "output_type": "stream",
     "text": [
      "          Username  PageRank\n",
      "0  realDonaldTrump  0.000432\n",
      "1   DonaldJTrumpJr  0.000067\n",
      "2         catturd2  0.000062\n",
      "3     DineshDSouza  0.000060\n",
      "4     JackPosobiec  0.000058\n",
      "5      TravisTritt  0.000049\n",
      "6         dbongino  0.000037\n",
      "7       DanScavino  0.000033\n",
      "8       DevinNunes  0.000033\n",
      "9        laralogan  0.000032\n"
     ]
    }
   ],
   "source": [
    "top_n = 10\n",
    "top_nodes = sorted_nodes[:top_n]\n",
    "\n",
    "# Crie um DataFrame com os nicknames e valores do PageRank.\n",
    "data = {\n",
    "    \"Username\": [G.nodes[node]['nickname'] for node, _ in top_nodes],\n",
    "    \"PageRank\": [rank for _, rank in top_nodes]\n",
    "}\n",
    "df = pd.DataFrame(data)\n",
    "\n",
    "# Exiba a tabela.\n",
    "print(df)"
   ]
  },
  {
   "cell_type": "markdown",
   "id": "7bcaf4d4",
   "metadata": {},
   "source": [
    "### Assortativity"
   ]
  },
  {
   "cell_type": "code",
   "execution_count": 173,
   "id": "0dfbe44a",
   "metadata": {},
   "outputs": [],
   "source": [
    "in_assort_pearson = nx.degree_pearson_correlation_coefficient(G, x='in', y='in')"
   ]
  },
  {
   "cell_type": "code",
   "execution_count": 174,
   "id": "3c88e9ac",
   "metadata": {},
   "outputs": [],
   "source": [
    "out_assort_pearson = nx.degree_pearson_correlation_coefficient(G, x='out', y='out')"
   ]
  },
  {
   "cell_type": "code",
   "execution_count": 177,
   "id": "9712bdf5",
   "metadata": {},
   "outputs": [],
   "source": [
    "# In-degree assortativity\n",
    "in_degree_dict = dict(G.in_degree())\n",
    "average_in_degrees = nx.average_neighbor_degree(G, source='in', target='in')\n",
    "k_in = in_degree_dict.values()\n",
    "knn_in = average_in_degrees.values()\n",
    "\n",
    "# Out-degree assortativity\n",
    "out_degree_dict = dict(G.out_degree())\n",
    "average_out_degrees = nx.average_neighbor_degree(G, source='out', target='out')\n",
    "k_out = out_degree_dict.values()\n",
    "knn_out = average_out_degrees.values()"
   ]
  },
  {
   "cell_type": "code",
   "execution_count": 190,
   "id": "63e6c18c",
   "metadata": {},
   "outputs": [
    {
     "data": {
      "image/png": "[encoded data removed]",
      "text/plain": [
       "<Figure size 648x288 with 2 Axes>"
      ]
     },
     "metadata": {
      "needs_background": "light"
     },
     "output_type": "display_data"
    }
   ],
   "source": [
    "fig, ax = plt.subplots(1, 2, figsize=(9,4), sharey=True)\n",
    "ax[0].scatter(k_in, knn_in, marker='o', alpha=0.7)\n",
    "ax[0].text(100, 400, f'r = {in_assort_pearson:.3f}', fontsize=12, color='red', alpha=0.8)\n",
    "ax[0].set_xscale('log')\n",
    "ax[0].set_yscale('log')\n",
    "ax[0].set_xlabel(\"K_in\")\n",
    "ax[0].set_ylabel(\"Knn(K_in)\")\n",
    "\n",
    "# Scatter plot of out degree distribution\n",
    "ax[1].scatter(k_out, knn_out, marker='o', alpha=0.7)\n",
    "ax[1].text(100, 400, f'r = {out_assort_pearson:.3f}', fontsize=12, color='red', alpha=0.8)\n",
    "ax[1].set_xscale('log')\n",
    "ax[1].set_yscale('log')\n",
    "ax[1].set_xlabel(\"K_out\")\n",
    "ax[1].set_ylabel(\"Knn(K_out)\")\n",
    "\n",
    "plt.tight_layout()\n",
    "plt.show()"
   ]
  },
  {
   "cell_type": "code",
   "execution_count": null,
   "id": "443e4617",
   "metadata": {},
   "outputs": [],
   "source": []
  }
 ],
 "metadata": {
  "kernelspec": {
   "display_name": "Python 3 (ipykernel)",
   "language": "python",
   "name": "python3"
  },
  "language_info": {
   "codemirror_mode": {
    "name": "ipython",
    "version": 3
   },
   "file_extension": ".py",
   "mimetype": "text/x-python",
   "name": "python",
   "nbconvert_exporter": "python",
   "pygments_lexer": "ipython3",
   "version": "3.10.4"
  }
 },
 "nbformat": 4,
 "nbformat_minor": 5
}
